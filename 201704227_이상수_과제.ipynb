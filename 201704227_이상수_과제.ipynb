{
 "cells": [
  {
   "cell_type": "code",
   "execution_count": 1,
   "metadata": {},
   "outputs": [],
   "source": [
    "from selenium import webdriver\n",
    "from selenium.webdriver.common.keys import Keys\n",
    "import time\n",
    "from bs4 import BeautifulSoup\n"
   ]
  },
  {
   "cell_type": "code",
   "execution_count": 2,
   "metadata": {},
   "outputs": [],
   "source": [
    "chromedriver = 'chromedriver.exe' \n",
    "driver = webdriver.Chrome(chromedriver)\n",
    "driver.implicitly_wait(3)  # 로딩 될때까지 3초 대기"
   ]
  },
  {
   "cell_type": "code",
   "execution_count": 3,
   "metadata": {},
   "outputs": [
    {
     "name": "stdout",
     "output_type": "stream",
     "text": [
      "환전하고 싶은 나라는? >>> 스페인\n"
     ]
    }
   ],
   "source": [
    "# 환율 정보를 원하는 나라 입력\n",
    "\n",
    "your_cty = input(\"환전하고 싶은 나라는? >>> \")\n",
    "your_ord = your_cty + \"환율\""
   ]
  },
  {
   "cell_type": "code",
   "execution_count": 4,
   "metadata": {},
   "outputs": [],
   "source": [
    "# 원하는 나라 환율 사이트 가져오기\n",
    "\n",
    "driver.get(\"http://www.naver.com\")\n",
    "time.sleep(2)\n",
    "\n",
    "elem = driver.find_element_by_name(\"query\")\n",
    "elem.clear()\n",
    "\n",
    "elem.send_keys(your_ord)\n",
    "elem.send_keys(Keys.RETURN)"
   ]
  },
  {
   "cell_type": "code",
   "execution_count": 5,
   "metadata": {},
   "outputs": [
    {
     "name": "stdout",
     "output_type": "stream",
     "text": [
      "당신이 가진 돈의 액수는? >>> 450000\n"
     ]
    }
   ],
   "source": [
    "# 환율하고 싶은 금액 입력(원 -> 해당 나라의 돈)\n",
    "\n",
    "your_won = int(input('당신이 가진 돈의 액수는? >>> '))\n",
    "elem1 = driver.find_element_by_id(\"ds_to_money\")\n",
    "elem1.clear()\n",
    "elem1.send_keys(your_won)\n",
    "elem1.send_keys(Keys.RETURN)\n",
    "time.sleep(2)"
   ]
  },
  {
   "cell_type": "code",
   "execution_count": 6,
   "metadata": {},
   "outputs": [
    {
     "name": "stdout",
     "output_type": "stream",
     "text": [
      "345.80 유로\n"
     ]
    }
   ],
   "source": [
    "# 환전 정보 가져오기\n",
    "\n",
    "# elem2 = driver.find_element_by_class_name(\"recite _recite result\")\n",
    "# print(elem2.text)\n",
    "html = driver.page_source\n",
    "bs = BeautifulSoup(html, 'html.parser')\n",
    "ele = bs.select('#_cs_foreigninfo > div > div.contents03_sub > div > div.c_rate > div > div.rate_compare > div.compare_area > div > div:nth-child(1) > div.input_box._input_box > span.recite._recite.result')\n",
    "print(ele[0].text)"
   ]
  },
  {
   "cell_type": "code",
   "execution_count": 7,
   "metadata": {},
   "outputs": [],
   "source": [
    "# google에 나라 검색하기\n",
    "\n",
    "driver.get(\"http://google.co.kr\")\n",
    "time.sleep(2)\n",
    "elem = driver.find_element_by_name(\"q\")\n",
    "elem.clear()\n",
    "\n",
    "elem.send_keys(your_cty)\n",
    "elem.send_keys(Keys.RETURN)"
   ]
  },
  {
   "cell_type": "code",
   "execution_count": 14,
   "metadata": {},
   "outputs": [
    {
     "name": "stdout",
     "output_type": "stream",
     "text": [
      "나라 소개 : \n",
      " 스페인 또는 정식 국호인 스페인 왕국, 은 유럽에 위치하고 있는 국가이다. 스페인의 영토는 이베리아 반도에 걸쳐져 있으며, 아프리카에 위치한 카나리아 제도와 지중해에 위치한 발레아레스 제도 역시 스페인 영토이다.\n"
     ]
    }
   ],
   "source": [
    "# 나라 정보 가지고 오기\n",
    "\n",
    "html = driver.page_source\n",
    "bs = BeautifulSoup(html, 'html.parser')\n",
    "ele = bs.select('#rhs > div > div.EyBRub.kp-blk.knowledge-panel.Wnoohf.OJXvsb > div.xpdopen > div.ifM9O > div > div.SALvLe.farUxc.mJ2Mod > div > div:nth-child(1) > div > div > div > div > span:nth-child(2)')\n",
    "print('나라 소개 : \\n',ele[0].text)"
   ]
  },
  {
   "cell_type": "code",
   "execution_count": 48,
   "metadata": {},
   "outputs": [
    {
     "name": "stdout",
     "output_type": "stream",
     "text": [
      "스페인 관광 명소 리스트\n",
      "1 .  사그라다 파밀리아\n",
      "http://google.co.kr/search?q=%EC%82%AC%EA%B7%B8%EB%9D%BC%EB%8B%A4+%ED%8C%8C%EB%B0%80%EB%A6%AC%EC%95%84&stick=H4sIAAAAAAAAAONgFuLQz9U3MMvNzlICs9LN8oy1pJzzS_NKiipD8kPyS4syi0scS0qKEpNLMvPzFrFKvmla82r7jtdz97zuXqLwtqfn9YaG18vWvJnaAgB32mBATgAAAA&sa=X&ved=2ahUKEwjrp5-N5o7mAhUPQd4KHZTND1oQxA0wJnoECBAQBQ\n",
      "2 .  구엘 공원\n",
      "http://google.co.kr/search?q=%EA%B5%AC%EC%97%98+%EA%B3%B5%EC%9B%90&stick=H4sIAAAAAAAAAONgFuLQz9U3MMvNzlJiB7Hyyoq1pJzzS_NKiipD8kPyS4syi0scS0qKEpNLMvPzFrHyvtq65s30GQqvNm99M3sCAOykRv1BAAAA&sa=X&ved=2ahUKEwjrp5-N5o7mAhUPQd4KHZTND1oQxA0wJnoECBAQBw\n",
      "3 .  알람브라\n",
      "http://google.co.kr/search?q=%EC%95%8C%EB%9E%8C%EB%B8%8C%EB%9D%BC&stick=H4sIAAAAAAAAAONgFuLQz9U3MMvNzlICs8wz4rO0pJzzS_NKiipD8kPyS4syi0scS0qKEpNLMvPzFrHyvJna83pez-sdPa_n7gEAuIUy2UEAAAA&sa=X&ved=2ahUKEwjrp5-N5o7mAhUPQd4KHZTND1oQxA0wJnoECBAQCQ\n",
      "4 .  카사 밀라\n",
      "http://google.co.kr/search?q=%EC%B9%B4%EC%82%AC+%EB%B0%80%EB%9D%BC&stick=H4sIAAAAAAAAAONgFuLQz9U3MMvNzlJiB7Hyyi20pJzzS_NKiipD8kPyS4syi0scS0qKEpNLMvPzFrHyvtm55U3TGoXXGxpez90DABgMXjpBAAAA&sa=X&ved=2ahUKEwjrp5-N5o7mAhUPQd4KHZTND1oQxA0wJnoECBAQCw\n",
      "5 .  카사 바트요\n",
      "http://google.co.kr/search?q=%EC%B9%B4%EC%82%AC+%EB%B0%94%ED%8A%B8%EC%9A%94&stick=H4sIAAAAAAAAAONgFuLQz9U3MMvNzlJiB7Hyyiy1pJzzS_NKiipD8kPyS4syi0scS0qKEpNLMvPzFrEKvNm55U3TGoXXG6a87drxZtYUALN6Sr5EAAAA&sa=X&ved=2ahUKEwjrp5-N5o7mAhUPQd4KHZTND1oQxA0wJnoECBAQDQ\n"
     ]
    }
   ],
   "source": [
    "#나라 관광 명소\n",
    "\n",
    "print(your_cty, \"관광 명소 리스트\")\n",
    "for i in range(5):\n",
    "    ele = bs.select('#rhs > div > div.EyBRub.kp-blk.knowledge-panel.Wnoohf.OJXvsb > div.xpdopen > div.ifM9O > div > div:nth-child(3) > div.zVvuGd.MRfBrb > div:nth-child('+str(i+1)+') > a > div.fl.ellip.oBrLN')\n",
    "    print(i+1, '. ', ele[0].text)\n",
    "    ele = bs.select('#rhs > div > div.EyBRub.kp-blk.knowledge-panel.Wnoohf.OJXvsb > div.xpdopen > div.ifM9O > div > div:nth-child(3) > div.zVvuGd.MRfBrb > div:nth-child('+str(i+1)+') > a[href]')\n",
    "    print('http://google.co.kr'+ele[0]['href'])\n"
   ]
  },
  {
   "cell_type": "code",
   "execution_count": 134,
   "metadata": {},
   "outputs": [
    {
     "name": "stdout",
     "output_type": "stream",
     "text": [
      "스페인 관련 검색어\n",
      "1 .  포르투갈\n",
      "http://google.co.kr/search?q=%ED%8F%AC%EB%A5%B4%ED%88%AC%EA%B0%88&stick=H4sIAAAAAAAAAONgFuLQz9U3MMvNzlICs0yLTMq1-Jzzc3Pz84IzU1LLEyuLF7HyvO1f83rplrcda15t6AAAjTtb2DUAAAA&sa=X&ved=2ahUKEwiftbPe9I7mAhVFMd4KHbqZAGsQxA0wFXoECAwQPA\n",
      "2 .  이탈리아\n",
      "http://google.co.kr/search?q=%EC%9D%B4%ED%83%88%EB%A6%AC%EC%95%84&stick=H4sIAAAAAAAAAONgFuLQz9U3MMvNzlICs4yLsrK0-Jzzc3Pz84IzU1LLEyuLF7HyvJm75W1zx-tla95MbQEAylm4jzUAAAA&sa=X&ved=2ahUKEwiftbPe9I7mAhVFMd4KHbqZAGsQxA0wFXoECAwQPg\n",
      "3 .  프랑스\n",
      "http://google.co.kr/search?q=%ED%94%84%EB%9E%91%EC%8A%A4&stick=H4sIAAAAAAAAAONgFuLQz9U3MMvNzlLiBLHSLHIsk7X4nPNzc_PzgjNTUssTK4sXsXK-ndLyet7EN11LAG8ZsT8zAAAA&sa=X&ved=2ahUKEwiftbPe9I7mAhVFMd4KHbqZAGsQxA0wFXoECAwQQA\n",
      "4 .  잉글랜드\n",
      "http://google.co.kr/search?q=%EC%9E%89%EA%B8%80%EB%9E%9C%EB%93%9C&stick=H4sIAAAAAAAAAONgFuLQz9U3MMvNzlICs4yyKgy1-Jzzc3Pz84IzU1LLEyuLF7HyvJnX-WpHw-t5c15PngMAHTIvxjUAAAA&sa=X&ved=2ahUKEwiftbPe9I7mAhVFMd4KHbqZAGsQxA0wFXoECAwQQg\n",
      "5 .  독일\n",
      "http://google.co.kr/search?q=%EB%8F%85%EC%9D%BC&stick=H4sIAAAAAAAAAONgFuLQz9U3MMvNzlICs4xNTDO0-Jzzc3Pz84IzU1LLEyuLF7Gyve5vfTN3DwDBpfh3LwAAAA&sa=X&ved=2ahUKEwiftbPe9I7mAhVFMd4KHbqZAGsQxA0wFXoECAwQRA\n"
     ]
    }
   ],
   "source": [
    "# 나라 관련 검색어 & 링크 출력\n",
    "\n",
    "print(your_cty, \"관련 검색어\")\n",
    "for i in range(5):\n",
    "    ele = bs.select('#rhs > div > div.EyBRub.kp-blk.knowledge-panel.Wnoohf.OJXvsb > div.xpdopen > div.ifM9O > div > div.NFQFxe.yp1CPe.mod > div.zVvuGd.MRfBrb > div:nth-child('+str(i+1)+') > a > div.fl.ellip.oBrLN')\n",
    "    print(i+1, '. ', ele[0].text)\n",
    "    ele = bs.select('#rhs > div > div.EyBRub.kp-blk.knowledge-panel.Wnoohf.OJXvsb > div.xpdopen > div.ifM9O > div > div.NFQFxe.yp1CPe.mod > div.zVvuGd.MRfBrb > div:nth-child('+str(i+1)+') > a')\n",
    "    print('http://google.co.kr'+ele[0]['href'])\n"
   ]
  },
  {
   "cell_type": "code",
   "execution_count": 145,
   "metadata": {},
   "outputs": [],
   "source": [
    "# 구글이 추천하는 나라의 명소\n",
    "\n",
    "driver.get(\"http://google.co.kr\")\n",
    "time.sleep(2)\n",
    "elem = driver.find_element_by_name(\"q\")\n",
    "elem.clear()\n",
    "\n",
    "elem.send_keys(your_cty, '추천명소')\n",
    "elem.send_keys(Keys.RETURN)"
   ]
  },
  {
   "cell_type": "code",
   "execution_count": 146,
   "metadata": {},
   "outputs": [
    {
     "name": "stdout",
     "output_type": "stream",
     "text": [
      "[<a href=\"/travel/things-to-do?g2lb=2502405,2502548,4208993,4254308,4258168,4260007,4270442,4274032,4285990,4289525,4291318,4296668,4301054,4305595,4308216,4313006,4315873,4317816,4317915,4324289,4329288,4333233,4270859,4284970,4291517,4292955,4316256&amp;hl=ko&amp;gl=kr&amp;un=1&amp;otf=1&amp;dest_mid=/m/06mkj&amp;dest_src=ts&amp;dest_state_type=main&amp;sa=X&amp;ved=2ahUKEwiL1eyU-Y7mAhXLKqYKHSV_Bg8Q6tEBKAQwAHoECAsQCw&amp;cshid=1575014278408186\"><img alt=\"추천 명소 더보기\" class=\"KJ3c0b\" data-atf=\"1\" height=\"13\" src=\"//www.gstatic.com/flights/list_icon_blue.png\" width=\"16\"/><span>추천 명소 더보기</span></a>]\n"
     ]
    }
   ],
   "source": [
    "# 나라 추천 명소 받기\n",
    "\n",
    "html = driver.page_source\n",
    "bs = BeautifulSoup(html, 'html.parser')\n",
    "ele = bs.select('#ZpxfC > div > div.AbmtKb > a[href]')\n",
    "print(ele)\n",
    "driver.get('http://google.co.kr'+ele[0]['href'])"
   ]
  },
  {
   "cell_type": "code",
   "execution_count": 166,
   "metadata": {
    "scrolled": true
   },
   "outputs": [
    {
     "name": "stdout",
     "output_type": "stream",
     "text": [
      "관심 분야별 주요 명소\n",
      "1 해변\n",
      "2 박물관\n",
      "3 스키\n",
      "4 놀이공원\n",
      "5 카지노\n",
      "6 시장\n",
      "7 유아 동반 가능\n",
      "8 역사\n",
      "9 예술 및 문화\n",
      "10 야외 활동\n",
      "당신이 원하는 분야는?(숫자로 입력)4\n",
      "놀이공원\n"
     ]
    },
    {
     "ename": "AttributeError",
     "evalue": "'WebDriver' object has no attribute 'find_element_tag_name'",
     "output_type": "error",
     "traceback": [
      "\u001b[1;31m---------------------------------------------------------------------------\u001b[0m",
      "\u001b[1;31mAttributeError\u001b[0m                            Traceback (most recent call last)",
      "\u001b[1;32m<ipython-input-166-bebc2d3ac98c>\u001b[0m in \u001b[0;36m<module>\u001b[1;34m\u001b[0m\n\u001b[0;32m     14\u001b[0m \u001b[0mnum\u001b[0m \u001b[1;33m=\u001b[0m \u001b[0mint\u001b[0m\u001b[1;33m(\u001b[0m\u001b[0minput\u001b[0m\u001b[1;33m(\u001b[0m\u001b[1;34m'당신이 원하는 분야는?(숫자로 입력)'\u001b[0m\u001b[1;33m)\u001b[0m\u001b[1;33m)\u001b[0m\u001b[1;33m\u001b[0m\u001b[1;33m\u001b[0m\u001b[0m\n\u001b[0;32m     15\u001b[0m \u001b[0mprint\u001b[0m\u001b[1;33m(\u001b[0m\u001b[0mele\u001b[0m\u001b[1;33m[\u001b[0m\u001b[0mnum\u001b[0m\u001b[1;33m-\u001b[0m\u001b[1;36m1\u001b[0m\u001b[1;33m]\u001b[0m\u001b[1;33m.\u001b[0m\u001b[0mtext\u001b[0m\u001b[1;33m)\u001b[0m\u001b[1;33m\u001b[0m\u001b[1;33m\u001b[0m\u001b[0m\n\u001b[1;32m---> 16\u001b[1;33m \u001b[0melem\u001b[0m \u001b[1;33m=\u001b[0m \u001b[0mdriver\u001b[0m\u001b[1;33m.\u001b[0m\u001b[0mfind_element_tag_name\u001b[0m\u001b[1;33m(\u001b[0m\u001b[1;34m'//c-wiz/div/div/c-wiz/div/div[2]/div[1]/c-wiz/div/div[2]/div[2]/div/div[1]/div/div[1]/div/div'\u001b[0m\u001b[1;33m)\u001b[0m\u001b[1;33m\u001b[0m\u001b[1;33m\u001b[0m\u001b[0m\n\u001b[0m\u001b[0;32m     17\u001b[0m \u001b[1;31m#elem.click()\u001b[0m\u001b[1;33m\u001b[0m\u001b[1;33m\u001b[0m\u001b[1;33m\u001b[0m\u001b[0m\n",
      "\u001b[1;31mAttributeError\u001b[0m: 'WebDriver' object has no attribute 'find_element_tag_name'"
     ]
    }
   ],
   "source": [
    "# 분야별 추천\n",
    "\n",
    "html = driver.page_source\n",
    "bs = BeautifulSoup(html, 'html.parser')\n",
    "print('관심 분야별 주요 명소')\n",
    "ele = bs.select('#yDmH0d > c-wiz > div > div > c-wiz > div > div.a3G9ef.RMAISe > div.l3Fze.mNY2uf > c-wiz > div > div:nth-child(2) > div:nth-child(2) > div > div.SJyhnc.bVf6m > div > div')\n",
    "cnt = 1\n",
    "\n",
    "\n",
    "for i in ele:\n",
    "    print(cnt, i.text)\n",
    "    cnt+=1\n",
    "    \n",
    "num = int(input('당신이 원하는 분야는?(숫자로 입력)'))\n",
    "print(ele[num-1].text)\n",
    "elem = driver.find_element_tag_name\n",
    "#elem.click()\n",
    "\n",
    "# 분야를  선택하고 해당 분야의 링크로 이동하는부분이 한계"
   ]
  },
  {
   "cell_type": "code",
   "execution_count": 3,
   "metadata": {},
   "outputs": [],
   "source": [
    "# 애브리타임 로그인하기\n",
    "\n",
    "driver.get(\"https://everytime.kr/\")"
   ]
  },
  {
   "cell_type": "code",
   "execution_count": 4,
   "metadata": {},
   "outputs": [],
   "source": [
    "# 애브리타임의 로그인 링크 가지고 오기\n",
    "bs = BeautifulSoup(driver.page_source, 'html.parser')\n",
    "\n",
    " \n",
    "\n",
    "# a태그이면서 href 속성을 갖는 경우 탐색, 리스트 타입으로 links 변수에 저장됨\n",
    "\n",
    "links = bs.select('a[href]')\n",
    "\n",
    "driver.get(\"https://everytime.kr/\" + links[1]['href'])\n",
    "\n",
    " \n",
    "\n",
    " "
   ]
  },
  {
   "cell_type": "code",
   "execution_count": null,
   "metadata": {},
   "outputs": [
    {
     "name": "stdout",
     "output_type": "stream",
     "text": [
      "아이디 입력tkdtn7298\n"
     ]
    }
   ],
   "source": [
    "# 아이디와 비밀번호 창을 클릭하고 정보를 삽입하기\n",
    "\n",
    "id = input('아이디 입력')\n",
    "\n",
    "pw = input('비밀번호 입력')\n",
    "\n",
    "elem = driver.find_element_by_name(\"userid\")\n",
    "\n",
    "elem.click()\n",
    "\n",
    "elem.clear()\n",
    "\n",
    "elem.send_keys(id)\n",
    "\n",
    "elem = driver.find_element_by_name(\"password\")\n",
    "\n",
    "elem.click()\n",
    "\n",
    "elem.clear()\n",
    "\n",
    "elem.send_keys(pw)\n",
    "\n",
    " "
   ]
  },
  {
   "cell_type": "code",
   "execution_count": null,
   "metadata": {},
   "outputs": [],
   "source": [
    "# 로그인 버튼 클릭\n",
    "\n",
    "elem = driver.find_element_by_class_name(\"submit\")\n",
    "\n",
    "elem.click()\n"
   ]
  }
 ],
 "metadata": {
  "kernelspec": {
   "display_name": "Python 3",
   "language": "python",
   "name": "python3"
  },
  "language_info": {
   "codemirror_mode": {
    "name": "ipython",
    "version": 3
   },
   "file_extension": ".py",
   "mimetype": "text/x-python",
   "name": "python",
   "nbconvert_exporter": "python",
   "pygments_lexer": "ipython3",
   "version": "3.7.6"
  },
  "varInspector": {
   "cols": {
    "lenName": 16,
    "lenType": 16,
    "lenVar": 40
   },
   "kernels_config": {
    "python": {
     "delete_cmd_postfix": "",
     "delete_cmd_prefix": "del ",
     "library": "var_list.py",
     "varRefreshCmd": "print(var_dic_list())"
    },
    "r": {
     "delete_cmd_postfix": ") ",
     "delete_cmd_prefix": "rm(",
     "library": "var_list.r",
     "varRefreshCmd": "cat(var_dic_list()) "
    }
   },
   "types_to_exclude": [
    "module",
    "function",
    "builtin_function_or_method",
    "instance",
    "_Feature"
   ],
   "window_display": false
  }
 },
 "nbformat": 4,
 "nbformat_minor": 2
}
